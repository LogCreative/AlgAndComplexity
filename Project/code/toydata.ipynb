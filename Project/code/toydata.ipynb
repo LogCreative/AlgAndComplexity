{
 "metadata": {
  "language_info": {
   "codemirror_mode": {
    "name": "ipython",
    "version": 3
   },
   "file_extension": ".py",
   "mimetype": "text/x-python",
   "name": "python",
   "nbconvert_exporter": "python",
   "pygments_lexer": "ipython3",
   "version": "3.8.3"
  },
  "orig_nbformat": 2,
  "kernelspec": {
   "name": "python383jvsc74a57bd0b3ba2566441a7c06988d0923437866b63cedc61552a5af99d1f4fb67d367b25f",
   "display_name": "Python 3.8.3 64-bit ('base': conda)"
  }
 },
 "nbformat": 4,
 "nbformat_minor": 2,
 "cells": [
  {
   "cell_type": "code",
   "execution_count": 2,
   "metadata": {},
   "outputs": [],
   "source": [
    "import pandas as pd"
   ]
  },
  {
   "cell_type": "code",
   "execution_count": 3,
   "metadata": {},
   "outputs": [],
   "source": [
    "bandwidth = pd.read_excel('ToyData.xlsx',sheet_name='Inter-Datacenter Links').set_index('Bandwidth/MBps').replace('-',0)\n",
    "dcd = pd.read_excel('ToyData.xlsx',sheet_name='Data Center Details')\n",
    "slot = dcd.loc[:,['DC','Num of Slots']].dropna(how='any').set_index('DC')\n",
    "location = dcd.loc[:,['Data Partition','Location']].set_index('Data Partition')"
   ]
  },
  {
   "cell_type": "code",
   "execution_count": 4,
   "metadata": {},
   "outputs": [],
   "source": [
    "RQ = pd.read_excel('ToyData.xlsx',sheet_name='Job List').iloc[:,1:].dropna(how='all')\n",
    "RQ.set_index(list(RQ)[0],inplace=True)\n",
    "pre = RQ[list(RQ)[-1]].dropna()\n",
    "exe = RQ[list(RQ)[-2]]\n",
    "RQ = RQ.iloc[:,0:-2].fillna(0)"
   ]
  },
  {
   "cell_type": "code",
   "execution_count": 5,
   "metadata": {},
   "outputs": [],
   "source": [
    "pre = pre.apply(lambda x: x.replace(\"{\",\"\").replace(\"}\",\"\")).str.split(\", \",expand=True).transpose()"
   ]
  },
  {
   "cell_type": "code",
   "execution_count": 6,
   "metadata": {},
   "outputs": [],
   "source": [
    "import re"
   ]
  },
  {
   "cell_type": "code",
   "execution_count": 7,
   "metadata": {},
   "outputs": [],
   "source": [
    "dag = {}\n",
    "for c in list(pre):\n",
    "    for l in pre.index.to_list():\n",
    "        cell = pre[c][l]\n",
    "        if(cell and cell!= \" \"):\n",
    "            edge = re.search(r'\\((?P<start>.+),(?P<end>.+)\\)',cell,re.S).groupdict()\n",
    "            if(edge['start'] in dag):\n",
    "                dag[edge['start']].append(edge['end'])\n",
    "            else:\n",
    "                dag[edge['start']] = [edge['end']]\n",
    "\n",
    "# isolated node\n",
    "for l in RQ.index.to_list():\n",
    "    if(l not in dag):\n",
    "        dag[l] = []"
   ]
  },
  {
   "cell_type": "code",
   "execution_count": 8,
   "metadata": {},
   "outputs": [],
   "source": [
    "# topological sort\n",
    "topo_order = []\n",
    "\n",
    "def dfs(key):\n",
    "    if(key in topo_order):\n",
    "        return\n",
    "    topo_order.append(key)\n",
    "    if(key in dag):\n",
    "        for child in dag[key]:\n",
    "            dfs(child)\n",
    "\n",
    "for key in dag:\n",
    "    dfs(key)\n",
    "\n",
    "# BFS through topological order\n",
    "stage = {}\n",
    "visitqueue = list()\n",
    "for node in topo_order:\n",
    "    visitqueue.append(node)\n",
    "    while(len(visitqueue)>0):\n",
    "        top = visitqueue.pop(0)\n",
    "        if(top not in stage):\n",
    "            stage[top] = 0\n",
    "        if(top in dag):\n",
    "            for child in dag[top]:\n",
    "                visitqueue.append(child)\n",
    "                if((child not in stage) or \\\n",
    "                    (stage[top] + 1 > stage[child])):\n",
    "                    stage[child] = stage[top] + 1\n",
    "\n",
    "# group every class of job in every stage\n",
    "jobs = {}\n",
    "for tjob in stage:\n",
    "    jobattr = re.search(r'(\\w+)(\\d+)',tjob).groups()\n",
    "    jobclass = jobattr[0]\n",
    "    jobstage = stage[tjob]\n",
    "    if(jobclass not in jobs):\n",
    "        jobs[jobclass] = []\n",
    "    if(len(jobs[jobclass])<=jobstage):\n",
    "        jobs[jobclass].append([])\n",
    "    jobs[jobclass][jobstage].append(tjob)"
   ]
  },
  {
   "cell_type": "code",
   "execution_count": 49,
   "metadata": {},
   "outputs": [
    {
     "output_type": "execute_result",
     "data": {
      "text/plain": [
       "{'tB': [['tB1'], ['tB2']],\n",
       " 'tC': [['tC1'], ['tC2'], ['tC3']],\n",
       " 'tD': [['tD1', 'tD2'], ['tD3', 'tD4'], ['tD5']],\n",
       " 'tE': [['tE1'], ['tE2', 'tE3'], ['tE4', 'tE5'], ['tE6']],\n",
       " 'tF': [['tF1'],\n",
       "  ['tF2', 'tF3', 'tF4'],\n",
       "  ['tF5', 'tF6'],\n",
       "  ['tF7', 'tF8'],\n",
       "  ['tF9']],\n",
       " 'tA': [['tA1', 'tA2']]}"
      ]
     },
     "metadata": {},
     "execution_count": 49
    }
   ],
   "source": [
    "jobs"
   ]
  },
  {
   "cell_type": "code",
   "execution_count": 9,
   "metadata": {},
   "outputs": [],
   "source": [
    "import numpy as np\n",
    "import gurobipy as gp\n",
    "from gurobipy import GRB"
   ]
  },
  {
   "cell_type": "code",
   "execution_count": 73,
   "metadata": {},
   "outputs": [],
   "source": []
  },
  {
   "cell_type": "code",
   "execution_count": 66,
   "metadata": {},
   "outputs": [],
   "source": [
    "def grouping(suffix,mylist):\n",
    "    c = {}\n",
    "    for mem in mylist:\n",
    "        jobclass = suffix + re.search(r'(\\w+)(\\d+)',mem).groups()[0]\n",
    "        if jobclass in c:\n",
    "            c[jobclass].append(mem)\n",
    "        else:\n",
    "            c[jobclass] = [mem]\n",
    "    return c"
   ]
  },
  {
   "cell_type": "code",
   "execution_count": 70,
   "metadata": {},
   "outputs": [],
   "source": [
    "dpc = grouping('t', location.index.to_list())\n",
    "jobclasses = grouping('',RQ.index.to_list())"
   ]
  },
  {
   "cell_type": "code",
   "execution_count": 105,
   "metadata": {},
   "outputs": [
    {
     "output_type": "error",
     "ename": "TypeError",
     "evalue": "bad operand type for unary -: 'GenExpr'",
     "traceback": [
      "\u001b[1;31m---------------------------------------------------------------------------\u001b[0m",
      "\u001b[1;31mTypeError\u001b[0m                                 Traceback (most recent call last)",
      "\u001b[1;32m<ipython-input-105-5ad8b79ae233>\u001b[0m in \u001b[0;36m<module>\u001b[1;34m\u001b[0m\n\u001b[0;32m     40\u001b[0m         \u001b[1;31m# for job in stage:# for prev in jobclasses[jobclass]:\u001b[0m\u001b[1;33m\u001b[0m\u001b[1;33m\u001b[0m\u001b[1;33m\u001b[0m\u001b[0m\n\u001b[0;32m     41\u001b[0m         \u001b[0mjobm\u001b[0m \u001b[1;33m=\u001b[0m \u001b[1;33m[\u001b[0m\u001b[0mjm\u001b[0m\u001b[1;33m[\u001b[0m\u001b[0mi\u001b[0m\u001b[1;33m]\u001b[0m \u001b[1;32mfor\u001b[0m \u001b[0mi\u001b[0m \u001b[1;32min\u001b[0m \u001b[0mrange\u001b[0m\u001b[1;33m(\u001b[0m\u001b[0mlen\u001b[0m\u001b[1;33m(\u001b[0m\u001b[0mjoblist\u001b[0m\u001b[1;33m)\u001b[0m\u001b[1;33m)\u001b[0m\u001b[1;33m]\u001b[0m\u001b[1;33m\u001b[0m\u001b[1;33m\u001b[0m\u001b[0m\n\u001b[1;32m---> 42\u001b[1;33m         \u001b[0mm\u001b[0m\u001b[1;33m.\u001b[0m\u001b[0maddConstr\u001b[0m\u001b[1;33m(\u001b[0m\u001b[0my\u001b[0m\u001b[1;33m[\u001b[0m\u001b[0mstagenum\u001b[0m\u001b[1;33m]\u001b[0m\u001b[1;33m==\u001b[0m\u001b[0mgp\u001b[0m\u001b[1;33m.\u001b[0m\u001b[0mmax_\u001b[0m\u001b[1;33m(\u001b[0m\u001b[0mjobm\u001b[0m\u001b[1;33m)\u001b[0m\u001b[1;33m)\u001b[0m\u001b[1;33m\u001b[0m\u001b[1;33m\u001b[0m\u001b[0m\n\u001b[0m\u001b[0;32m     43\u001b[0m         \u001b[1;31m# m.addConstr(y[stagenum]==gp.max_())\u001b[0m\u001b[1;33m\u001b[0m\u001b[1;33m\u001b[0m\u001b[1;33m\u001b[0m\u001b[0m\n\u001b[0;32m     44\u001b[0m         \u001b[1;31m# m.addConstr(y[stagenum]==gp.max(exe[job] + \\\u001b[0m\u001b[1;33m\u001b[0m\u001b[1;33m\u001b[0m\u001b[1;33m\u001b[0m\u001b[0m\n",
      "\u001b[1;32msrc\\gurobipy\\mvar.pxi\u001b[0m in \u001b[0;36mgurobipy.MVar.__eq__\u001b[1;34m()\u001b[0m\n",
      "\u001b[1;32msrc\\gurobipy\\mlinexpr.pxi\u001b[0m in \u001b[0;36mgurobipy.MLinExpr.__eq__\u001b[1;34m()\u001b[0m\n",
      "\u001b[1;32msrc\\gurobipy\\linexpr.pxi\u001b[0m in \u001b[0;36mgurobipy.LinExpr.add\u001b[1;34m()\u001b[0m\n",
      "\u001b[1;31mTypeError\u001b[0m: bad operand type for unary -: 'GenExpr'"
     ]
    }
   ],
   "source": [
    "stagenum = 0\n",
    "for jobclass in jobs:\n",
    "    for stage in jobs[jobclass]:\n",
    "        stagenum = stagenum + 1\n",
    "\n",
    "# the following solving process is based on \n",
    "# gurobi's example on matrix2\n",
    "m = gp.Model('geodata')\n",
    "\n",
    "joblist = RQ.index.to_list()\n",
    "dclist = slot.index.to_list()\n",
    "\n",
    "# boolean matrix for choosing position of\n",
    "# the job slot\n",
    "x = m.addMVar((len(joblist), len(dclist)), vtype=GRB.BINARY, name=\"schedule\")\n",
    "\n",
    "# the elapsed time of every stage\n",
    "y = m.addMVar((stagenum), name=\"time\")\n",
    "\n",
    "# \n",
    "jm = m.addMVar((len(joblist)), name=\"jobmaximum\")\n",
    "\n",
    "# minimize average time\n",
    "m.setObjective(y.sum()/stagenum,GRB.MINIMIZE)\n",
    "\n",
    "# subject to:\n",
    "# (1) job is allocated in row\n",
    "for i in range(len(joblist)):\n",
    "    # At most one allocation per row\n",
    "    m.addConstr(x[i, :].sum() == 1, name=\"job_\"+str(joblist[i]))\n",
    "\n",
    "# (2) not exceed the number of slot\n",
    "for j in range(len(dclist)):\n",
    "    m.addConstr(x[:,j].sum() <= slot[\"Num of Slots\"][dclist[j]], name=\"dc_\"+str(dclist[j]))\n",
    "\n",
    "# (3) calculate time on every job\n",
    "stagenum = 0\n",
    "for jobclass in jobs:\n",
    "    for stage in jobs[jobclass]:\n",
    "        # for job in stage:# for prev in jobclasses[jobclass]:\n",
    "        jobm = [jm[i] for i in range(len(joblist))]\n",
    "        m.addConstr(y[stagenum]==gp.max_(jobm))\n",
    "        # m.addConstr(y[stagenum]==gp.max_())\n",
    "        # m.addConstr(y[stagenum]==gp.max(exe[job] + \\\n",
    "        #     max( \\\n",
    "        #         max(gp.quicksum(x[job][j]*RQ[job][location[k]]/bandwidth[location[k]][j] for j in dclist) for k in dpc[jobclass]), \\\n",
    "        #         max(gp.quicksum(gp.quicksum((x[prev][i] + x[job][j] - abs(x[prev][i] - x[job][j]))/2*RQ[job][prev]/bandwidth[i][j] for j in DC) for i in DC) for prev in jobclasses[jobclass])\n",
    "        #     ) \\\n",
    "        #     for job in stage \\\n",
    "        #     ),GRB.MAXIMIZE,name=jobclass+':'+str(stagenum))\n",
    "        stagenum = stagenum + 1\n",
    "\n",
    "# (4) evaluate max-min\n"
   ]
  },
  {
   "cell_type": "code",
   "execution_count": null,
   "metadata": {},
   "outputs": [],
   "source": []
  }
 ]
}