{
 "metadata": {
  "language_info": {
   "codemirror_mode": {
    "name": "ipython",
    "version": 3
   },
   "file_extension": ".py",
   "mimetype": "text/x-python",
   "name": "python",
   "nbconvert_exporter": "python",
   "pygments_lexer": "ipython3",
   "version": "3.8.3"
  },
  "orig_nbformat": 2,
  "kernelspec": {
   "name": "python383jvsc74a57bd0b3ba2566441a7c06988d0923437866b63cedc61552a5af99d1f4fb67d367b25f",
   "display_name": "Python 3.8.3 64-bit ('base': conda)"
  }
 },
 "nbformat": 4,
 "nbformat_minor": 2,
 "cells": [
  {
   "cell_type": "code",
   "execution_count": 1,
   "metadata": {},
   "outputs": [],
   "source": [
    "import pandas as pd"
   ]
  },
  {
   "cell_type": "code",
   "execution_count": 2,
   "metadata": {},
   "outputs": [],
   "source": [
    "def dictappend(dic, key, value):\n",
    "    if key in dic:\n",
    "        dic[key].append(value)\n",
    "    else:\n",
    "        dic[key] = [value]"
   ]
  },
  {
   "cell_type": "code",
   "execution_count": 3,
   "metadata": {},
   "outputs": [],
   "source": [
    "bandwidth = pd.read_excel('ToyData.xlsx',sheet_name='Inter-Datacenter Links').set_index('Bandwidth/MBps').replace('-',0.000001) # very small bandwidth\n",
    "\n",
    "# convert to time\n",
    "for start in bandwidth.index.to_list():\n",
    "    for end in list(bandwidth):\n",
    "        bandwidth = 1 / bandwidth\n",
    "\n",
    "# run Floyd's Algorithm\n",
    "dc_number = len(list(bandwidth))\n",
    "for k in range(dc_number):\n",
    "    for start in range(dc_number):\n",
    "        for end in range(dc_number):\n",
    "            if(bandwidth.iloc[start,end]>bandwidth.iloc[start,k]+bandwidth.iloc[k,end]):\n",
    "                bandwidth.iloc[start,end]=bandwidth.iloc[start,k]+bandwidth.iloc[k,end]\n",
    "\n",
    "# convert back\n",
    "for start in bandwidth.index.to_list():\n",
    "    for end in list(bandwidth):\n",
    "        bandwidth = 1 / bandwidth"
   ]
  },
  {
   "cell_type": "code",
   "execution_count": 4,
   "metadata": {},
   "outputs": [],
   "source": [
    "dcd = pd.read_excel('ToyData.xlsx',sheet_name='Data Center Details')\n",
    "slot = dcd.loc[:,['DC','Num of Slots']].dropna(how='any').set_index('DC')\n",
    "location = dcd.loc[:,['Data Partition','Location']].set_index('Data Partition')"
   ]
  },
  {
   "cell_type": "code",
   "execution_count": 5,
   "metadata": {},
   "outputs": [],
   "source": [
    "RQ = pd.read_excel('ToyData.xlsx',sheet_name='Job List').iloc[:,1:].dropna(how='all')\n",
    "RQ.set_index(list(RQ)[0],inplace=True)\n",
    "pre = RQ[list(RQ)[-1]].dropna()\n",
    "exe = RQ[list(RQ)[-2]]\n",
    "RQ = RQ.iloc[:,0:-2].fillna(0)"
   ]
  },
  {
   "cell_type": "code",
   "execution_count": 6,
   "metadata": {},
   "outputs": [],
   "source": [
    "pre = pre.apply(lambda x: x.replace(\"{\",\"\").replace(\"}\",\"\")).str.split(\", \",expand=True).transpose()"
   ]
  },
  {
   "cell_type": "code",
   "execution_count": 7,
   "metadata": {},
   "outputs": [],
   "source": [
    "import re"
   ]
  },
  {
   "cell_type": "code",
   "execution_count": 8,
   "metadata": {},
   "outputs": [],
   "source": [
    "dag = {}\n",
    "# get adjecency list from adjecency matrix\n",
    "for col in list(RQ):\n",
    "    for row in RQ.index.to_list():\n",
    "        if col.find('t')>=0 and RQ[col][row] > 0:\n",
    "            dictappend(dag,col,row)\n",
    "\n",
    "# isolated node\n",
    "for l in RQ.index.to_list():\n",
    "    if(l not in dag):\n",
    "        dag[l] = []"
   ]
  },
  {
   "cell_type": "code",
   "execution_count": 9,
   "metadata": {},
   "outputs": [],
   "source": [
    "# topological sort\n",
    "topo_order = []\n",
    "\n",
    "def dfs(key):\n",
    "    if(key in topo_order):\n",
    "        return\n",
    "    topo_order.append(key)\n",
    "    if(key in dag):\n",
    "        for child in dag[key]:\n",
    "            dfs(child)\n",
    "\n",
    "for key in dag:\n",
    "    dfs(key)\n",
    "\n",
    "# BFS through topological order\n",
    "stage = {}\n",
    "visitqueue = list()\n",
    "for node in topo_order:\n",
    "    visitqueue.append(node)\n",
    "    while(len(visitqueue)>0):\n",
    "        top = visitqueue.pop(0)\n",
    "        if(top not in stage):\n",
    "            stage[top] = 0\n",
    "        if(top in dag):\n",
    "            for child in dag[top]:\n",
    "                visitqueue.append(child)\n",
    "                if((child not in stage) or (stage[top] + 1 > stage[child])):\n",
    "                    stage[child] = stage[top] + 1\n",
    "\n",
    "# group every class of job in every stage\n",
    "jobs = {}\n",
    "for tjob in stage:\n",
    "    jobattr = re.search(r'(\\w+)(\\d+)',tjob).groups()\n",
    "    jobclass = jobattr[0]\n",
    "    jobstage = stage[tjob]\n",
    "    if(jobclass not in jobs):\n",
    "        jobs[jobclass] = []\n",
    "    if(len(jobs[jobclass])<=jobstage):\n",
    "        jobs[jobclass].append([])\n",
    "    jobs[jobclass][jobstage].append(tjob)"
   ]
  },
  {
   "cell_type": "code",
   "execution_count": 10,
   "metadata": {},
   "outputs": [],
   "source": [
    "import numpy as np\n",
    "import gurobipy as gp\n",
    "from gurobipy import GRB"
   ]
  },
  {
   "cell_type": "code",
   "execution_count": 11,
   "metadata": {},
   "outputs": [],
   "source": [
    "def grouping(suffix,mylist):\n",
    "    c = {}\n",
    "    for mem in mylist:\n",
    "        jobclass = suffix + re.search(r'(\\w+)(\\d+)',mem).groups()[0]\n",
    "        dictappend(c,jobclass,mem)\n",
    "    return c"
   ]
  },
  {
   "cell_type": "code",
   "execution_count": 12,
   "metadata": {},
   "outputs": [],
   "source": [
    "dpc = grouping('t', location.index.to_list())\n",
    "jobclasses = grouping('',RQ.index.to_list())"
   ]
  },
  {
   "cell_type": "code",
   "execution_count": 13,
   "metadata": {},
   "outputs": [],
   "source": [
    "jobstages = {}\n",
    "for job in jobs:\n",
    "    for s in range(len(jobs[job])):\n",
    "        jobstages[job, s] = jobs[job][s]"
   ]
  },
  {
   "cell_type": "code",
   "execution_count": 14,
   "metadata": {
    "tags": []
   },
   "outputs": [],
   "source": [
    "# draw diagram\n",
    "def diagram(fileName,message=\"\"):\n",
    "    alloc = {}\n",
    "    taskalloc = {}\n",
    "    for xe in x:\n",
    "        if x[xe].x==1:\n",
    "            dictappend(alloc,xe[1],xe[0])\n",
    "            taskalloc[xe[0]] = xe[1]\n",
    "\n",
    "    for dc in dclist:\n",
    "        if dc not in alloc:\n",
    "            alloc[dc] = []\n",
    "\n",
    "    diagram = \"\\\\documentclass[tikz]{standalone}\\n\\\\begin{document}\\n\\\\begin{tikzpicture}\\n\\\\usetikzlibrary {positioning,shapes.misc}\\n\\\\tikzstyle{dc} = [rounded rectangle,right,draw=gray,yshift=-0.5cm];\\n\\\\tikzstyle{task} = [circle,draw=red!50!black!50,top color=white];\\n\"\n",
    "    maxstage = max(stage[x] for x in stage)\n",
    "    maxbandwidth = max(bandwidth[i][j] for i in list(bandwidth) for j in list(bandwidth.index))\n",
    "    dcy = 0\n",
    "    for i in range(1,dc_number+1):\n",
    "        dc = \"DC\" + str(i)\n",
    "        diagram += \"\\\\node at (-1.5,\" + str(dcy) + \") {\" + dc + \"};\\n\"\n",
    "        diagram += \"\\\\node[dc,text width=\" + str(slot[\"Num of Slots\"][dc]) + \"cm] (\" + dc + \") at (-0.5,\" + str(dcy) + \") {};\\n\"\n",
    "        taskx = 0\n",
    "        for task in alloc[dc]:\n",
    "            diagram += \"\\\\node[task,bottom color=black!\" + str(5 + stage[task]/maxstage * 20) + \"] at (\" + str(taskx) + \",\" + str(dcy) + \") {\" + task + \"};\\n\"\n",
    "            diagram += \"\\\\node[task,bottom color=black!\" + str(5 + stage[task]/maxstage * 20) + \",opacity=0.3] (\" + task + \") at (\" + str(6+taskx) + \",\" + str(dcy) + \") {\" + task + \"};\\n\"\n",
    "            taskx += 1\n",
    "        while(taskx < slot[\"Num of Slots\"][dc]):\n",
    "            diagram += \"\\\\node[task] at (\" + str(taskx) + \",\" + str(dcy) + \") {};\\n\"\n",
    "            taskx += 1\n",
    "        dcy -= 1.5\n",
    "    for start in dag:\n",
    "        for end in dag[start]:\n",
    "            if start not in taskalloc:\n",
    "                print(\"!!! \" + start + \" is not allocated in \" + str(alloc))\n",
    "            elif end not in taskalloc:\n",
    "                print(\"!!! \" + end + \" is not allocated in \" + str(alloc))\n",
    "            else:\n",
    "                diagram += \"\\\\draw[red!\" + str(RQ[start][end]/bandwidth[taskalloc[end]][taskalloc[start]] * 45)+ \"!green,line width=\" + str(bandwidth[taskalloc[end]][taskalloc[start]] / maxbandwidth * 1) + \"pt] (\" + start + \") edge[->,bend right] (\" + end + \");\\n\"\n",
    "    diagram += \"\\\\end{tikzpicture}\\n\\\\end{document}\\n\"\n",
    "\n",
    "    print(fileName + \": \" + str(m.objVal) + \"\\t\" + message)\n",
    "\n",
    "    with open(fileName,\"w\") as diagramFile:\n",
    "        diagramFile.write(diagram)"
   ]
  },
  {
   "cell_type": "code",
   "execution_count": 15,
   "metadata": {
    "tags": []
   },
   "outputs": [
    {
     "output_type": "stream",
     "name": "stdout",
     "text": [
      "Academic license - for non-commercial use only - expires 2021-07-24\n",
      "Using license file C:\\Users\\lizil\\gurobi.lic\n",
      "iter0.tex: 2.1556790123456735\t[]\n",
      "iter1.tex: 2.189783950617275\t['DC2', 'DC3', 'DC4', 'DC5', 'DC9']\n",
      "iter2.tex: 2.238575837742499\t['DC2', 'DC3', 'DC4', 'DC5', 'DC9', 'DC6', 'DC7']\n",
      "!!! tE3 is not allocated in {'DC3': ['tB1', 'tB2', 'tA1'], 'DC2': ['tC3'], 'DC5': ['tD5'], 'DC8': ['tE1'], 'DC4': ['tE2', 'tC1'], 'DC6': ['tE4', 'tD2', 'tD3', 'tF5', 'tF7'], 'DC11': ['tE5', 'tE6'], 'DC9': ['tF1', 'tA2'], 'DC12': ['tF2', 'tF4', 'tF6', 'tF8', 'tF9', 'tD4'], 'DC13': ['tC2', 'tD1'], 'DC7': ['tF3'], 'DC1': [], 'DC10': []}\n",
      "!!! tE3 is not allocated in {'DC3': ['tB1', 'tB2', 'tA1'], 'DC2': ['tC3'], 'DC5': ['tD5'], 'DC8': ['tE1'], 'DC4': ['tE2', 'tC1'], 'DC6': ['tE4', 'tD2', 'tD3', 'tF5', 'tF7'], 'DC11': ['tE5', 'tE6'], 'DC9': ['tF1', 'tA2'], 'DC12': ['tF2', 'tF4', 'tF6', 'tF8', 'tF9', 'tD4'], 'DC13': ['tC2', 'tD1'], 'DC7': ['tF3'], 'DC1': [], 'DC10': []}\n",
      "!!! tE3 is not allocated in {'DC3': ['tB1', 'tB2', 'tA1'], 'DC2': ['tC3'], 'DC5': ['tD5'], 'DC8': ['tE1'], 'DC4': ['tE2', 'tC1'], 'DC6': ['tE4', 'tD2', 'tD3', 'tF5', 'tF7'], 'DC11': ['tE5', 'tE6'], 'DC9': ['tF1', 'tA2'], 'DC12': ['tF2', 'tF4', 'tF6', 'tF8', 'tF9', 'tD4'], 'DC13': ['tC2', 'tD1'], 'DC7': ['tF3'], 'DC1': [], 'DC10': []}\n",
      "iter3.tex: 2.238575836033096\t['DC2', 'DC3', 'DC4', 'DC5', 'DC9', 'DC6', 'DC7', 'DC13']\n",
      "iter4.tex: 2.2385758377424962\t['DC2', 'DC3', 'DC4', 'DC5', 'DC9', 'DC6', 'DC7', 'DC13', 'DC12']\n",
      "naive.tex: 2.2385758377425042\t\n"
     ]
    }
   ],
   "source": [
    "# the following solving process is based on \n",
    "# gurobi's example on matrix2\n",
    "m = gp.Model('geodata')\n",
    "m.setParam('OutputFlag', 0)\n",
    "\n",
    "tasklist = RQ.index.to_list()\n",
    "dclist = slot.index.to_list()\n",
    "\n",
    "placing = {}\n",
    "for classjob in jobclasses:\n",
    "    for task in jobclasses[classjob]:\n",
    "        for dp in dpc[classjob]:\n",
    "            dc = location[\"Location\"][dp]\n",
    "            if (task,dc) in placing:\n",
    "                placing[task, dc] += RQ[dp][task]\n",
    "            else:\n",
    "                placing[task, dc] = RQ[dp][task]\n",
    "\n",
    "for task in tasklist:\n",
    "    for dc in dclist:\n",
    "        if (task,dc) not in placing:\n",
    "            placing[task,dc] = 0\n",
    "\n",
    "inter = {}\n",
    "for task in tasklist:\n",
    "    for othertask in tasklist:\n",
    "        if othertask in list(RQ):\n",
    "            inter[othertask,task] = RQ[othertask][task]\n",
    "        else:\n",
    "            inter[othertask,task] = 0\n",
    "\n",
    "# boolean matrix for choosing position of\n",
    "# the job slot\n",
    "x = m.addVars(placing.keys(), vtype=GRB.BINARY, name=\"schedule\")\n",
    "\n",
    "# the elapsed time of every stage\n",
    "ct = m.addVars(jobstages.keys(),name=\"stagetime\")\n",
    "jt = m.addVars(jobclasses.keys(),name=\"jobtime\")\n",
    "# job time is the sum of every stage\n",
    "for jclass in jobclasses:\n",
    "    m.addConstr(jt[jclass] == ct.sum(jclass,'*'))\n",
    "\n",
    "# minimize average time\n",
    "m.setObjective(jt.sum('*')/len(tasklist),GRB.MINIMIZE)\n",
    "\n",
    "# subject to:\n",
    "# (1) job is allocated in row\n",
    "for task in tasklist:\n",
    "    # At most one allocation per row\n",
    "    m.addConstr(x.sum(task,'*') == 1, name=\"job_\"+str(task))\n",
    "\n",
    "# (3) calculate time on every stage\n",
    "for jobstage in jobstages:\n",
    "    ctt = m.addVars(jobstages[jobstage],name=\"stagetask\"+str(jobstage))\n",
    "    for task in jobstages[jobstage]:\n",
    "        for jdc in dclist:\n",
    "            m.addConstr(ctt[task] >= gp.quicksum(x[task,idc]*placing[task,jdc]/bandwidth[idc][jdc] for idc in dclist))\n",
    "        for classtask in jobclasses[jobstage[0]]:\n",
    "            m.addConstr(ctt[task] >= gp.quicksum(x[classtask,jdc]*x[task,idc]*inter[classtask,task]/bandwidth[jdc][idc] for idc in dclist for jdc in dclist),name=\"task\"+str(task)+\"from\"+str(classtask))\n",
    "        m.addConstr(ct[jobstage] >= ctt[task] + exe[task])\n",
    "\n",
    "## maxmin\n",
    "slotConstr = slot.copy(deep=True)\n",
    "slotConstr[\"Num of Slots\"] = 0\n",
    "\n",
    "def checker():\n",
    "    exceed = []\n",
    "    for dc in dclist:\n",
    "        if x.sum('*',dc).getValue() > slot[\"Num of Slots\"][dc]:    \n",
    "            exceed.append(dc)\n",
    "    return exceed            \n",
    "\n",
    "# no limits in initial configuration\n",
    "exceed = []\n",
    "currentConstr = []\n",
    "iternum = 0\n",
    "while(1):\n",
    "    # (2*) not exceed this round of slot\n",
    "    for dce in exceed:\n",
    "        m.addConstr(x.sum('*',dce) <= slotConstr[\"Num of Slots\"][dce], name=\"dce_\"+str(dce))\n",
    "    # optimze within the current slot limit\n",
    "    m.optimize()\n",
    "    diagram(\"iter\"+str(iternum)+\".tex\", str(currentConstr))\n",
    "    iternum += 1\n",
    "    # checker\n",
    "    exceed = checker()\n",
    "    # break if all requirements are satisfied\n",
    "    if (len(exceed)==0):\n",
    "        break\n",
    "    # add Constraints on those dc\n",
    "    for dce in exceed:\n",
    "        slotConstr[\"Num of Slots\"][dce] = slot[\"Num of Slots\"][dce]\n",
    "        currentConstr.append(dce)\n",
    "\n",
    "## naive\n",
    "# (2) not exceed the number of slot\n",
    "for dc in dclist:\n",
    "    m.addConstr(x.sum('*',dc) <= slot[\"Num of Slots\"][dc], name=\"dc_\"+str(dc))\n",
    "\n",
    "m.optimize()\n",
    "diagram(\"naive.tex\")"
   ]
  }
 ]
}