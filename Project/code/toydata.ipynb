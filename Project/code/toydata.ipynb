{
 "metadata": {
  "language_info": {
   "codemirror_mode": {
    "name": "ipython",
    "version": 3
   },
   "file_extension": ".py",
   "mimetype": "text/x-python",
   "name": "python",
   "nbconvert_exporter": "python",
   "pygments_lexer": "ipython3",
   "version": "3.8.3"
  },
  "orig_nbformat": 2,
  "kernelspec": {
   "name": "python383jvsc74a57bd0b3ba2566441a7c06988d0923437866b63cedc61552a5af99d1f4fb67d367b25f",
   "display_name": "Python 3.8.3 64-bit ('base': conda)"
  }
 },
 "nbformat": 4,
 "nbformat_minor": 2,
 "cells": [
  {
   "cell_type": "code",
   "execution_count": 121,
   "metadata": {},
   "outputs": [],
   "source": [
    "import pandas as pd"
   ]
  },
  {
   "cell_type": "code",
   "execution_count": 122,
   "metadata": {},
   "outputs": [],
   "source": [
    "bandwidth = pd.read_excel('ToyData.xlsx',sheet_name='Inter-Datacenter Links')\n",
    "dcd = pd.read_excel('ToyData.xlsx',sheet_name='Data Center Details')\n",
    "slot = dcd.loc[:,['DC','Num of Slots']].dropna(how='any')\n",
    "location = dcd.loc[:,['Data Partition','Location']]"
   ]
  },
  {
   "cell_type": "code",
   "execution_count": 132,
   "metadata": {},
   "outputs": [],
   "source": [
    "RQ = pd.read_excel('ToyData.xlsx',sheet_name='Job List').iloc[:,1:]\n",
    "RQ.set_index(list(RQ)[0],inplace=True)\n",
    "pre = RQ[list(RQ)[-1]].dropna()\n",
    "exe = RQ[list(RQ)[-2]]\n",
    "RQ = RQ.iloc[:,0:-2]"
   ]
  },
  {
   "cell_type": "code",
   "execution_count": 133,
   "metadata": {},
   "outputs": [],
   "source": [
    "pre = pre.apply(lambda x: x.replace(\"{\",\"\").replace(\"}\",\"\"))"
   ]
  },
  {
   "cell_type": "code",
   "execution_count": 135,
   "metadata": {},
   "outputs": [
    {
     "output_type": "execute_result",
     "data": {
      "text/plain": [
       "                      0          1           2           3          4  \\\n",
       "Unnamed: 1                                                              \n",
       "tA1                           None        None        None       None   \n",
       "tB1          (tB1,tB2)        None        None        None       None   \n",
       "tC1           (tC1,tC2)  (tC1,tC3)  (tC2,tC3)         None       None   \n",
       "tD1           (tD1,tD3)  (tD2,tD3)   (tD2,tD4)  (tD3,tD5)        None   \n",
       "tE1           (tE1,tE2)  (tE1,tE3)   (tE2,tE4)   (tE3,tE5)  (tE3,tE6)   \n",
       "tF1           (tF1,tF2)  (tF1,tF3)   (tF1,tF4)   (tF2,tF5)  (tF3,tF5)   \n",
       "\n",
       "                     5          6          7          8          9          10  \n",
       "Unnamed: 1                                                                      \n",
       "tA1               None       None       None       None       None        None  \n",
       "tB1               None       None       None       None       None        None  \n",
       "tC1               None       None       None       None       None        None  \n",
       "tD1               None       None       None       None       None        None  \n",
       "tE1         (tE5,tE6)        None       None       None       None        None  \n",
       "tF1          (tF4,tF6)  (tF5,tF7)  (tF5,tF8)  (tF6,tF8)  (tF7,tF9)  (tF8,tF9)   "
      ],
      "text/html": "<div>\n<style scoped>\n    .dataframe tbody tr th:only-of-type {\n        vertical-align: middle;\n    }\n\n    .dataframe tbody tr th {\n        vertical-align: top;\n    }\n\n    .dataframe thead th {\n        text-align: right;\n    }\n</style>\n<table border=\"1\" class=\"dataframe\">\n  <thead>\n    <tr style=\"text-align: right;\">\n      <th></th>\n      <th>0</th>\n      <th>1</th>\n      <th>2</th>\n      <th>3</th>\n      <th>4</th>\n      <th>5</th>\n      <th>6</th>\n      <th>7</th>\n      <th>8</th>\n      <th>9</th>\n      <th>10</th>\n    </tr>\n    <tr>\n      <th>Unnamed: 1</th>\n      <th></th>\n      <th></th>\n      <th></th>\n      <th></th>\n      <th></th>\n      <th></th>\n      <th></th>\n      <th></th>\n      <th></th>\n      <th></th>\n      <th></th>\n    </tr>\n  </thead>\n  <tbody>\n    <tr>\n      <th>tA1</th>\n      <td></td>\n      <td>None</td>\n      <td>None</td>\n      <td>None</td>\n      <td>None</td>\n      <td>None</td>\n      <td>None</td>\n      <td>None</td>\n      <td>None</td>\n      <td>None</td>\n      <td>None</td>\n    </tr>\n    <tr>\n      <th>tB1</th>\n      <td>(tB1,tB2)</td>\n      <td>None</td>\n      <td>None</td>\n      <td>None</td>\n      <td>None</td>\n      <td>None</td>\n      <td>None</td>\n      <td>None</td>\n      <td>None</td>\n      <td>None</td>\n      <td>None</td>\n    </tr>\n    <tr>\n      <th>tC1</th>\n      <td>(tC1,tC2)</td>\n      <td>(tC1,tC3)</td>\n      <td>(tC2,tC3)</td>\n      <td>None</td>\n      <td>None</td>\n      <td>None</td>\n      <td>None</td>\n      <td>None</td>\n      <td>None</td>\n      <td>None</td>\n      <td>None</td>\n    </tr>\n    <tr>\n      <th>tD1</th>\n      <td>(tD1,tD3)</td>\n      <td>(tD2,tD3)</td>\n      <td>(tD2,tD4)</td>\n      <td>(tD3,tD5)</td>\n      <td>None</td>\n      <td>None</td>\n      <td>None</td>\n      <td>None</td>\n      <td>None</td>\n      <td>None</td>\n      <td>None</td>\n    </tr>\n    <tr>\n      <th>tE1</th>\n      <td>(tE1,tE2)</td>\n      <td>(tE1,tE3)</td>\n      <td>(tE2,tE4)</td>\n      <td>(tE3,tE5)</td>\n      <td>(tE3,tE6)</td>\n      <td>(tE5,tE6)</td>\n      <td>None</td>\n      <td>None</td>\n      <td>None</td>\n      <td>None</td>\n      <td>None</td>\n    </tr>\n    <tr>\n      <th>tF1</th>\n      <td>(tF1,tF2)</td>\n      <td>(tF1,tF3)</td>\n      <td>(tF1,tF4)</td>\n      <td>(tF2,tF5)</td>\n      <td>(tF3,tF5)</td>\n      <td>(tF4,tF6)</td>\n      <td>(tF5,tF7)</td>\n      <td>(tF5,tF8)</td>\n      <td>(tF6,tF8)</td>\n      <td>(tF7,tF9)</td>\n      <td>(tF8,tF9)</td>\n    </tr>\n  </tbody>\n</table>\n</div>"
     },
     "metadata": {},
     "execution_count": 135
    }
   ],
   "source": [
    "pre.str.split(\", \",expand=True)"
   ]
  }
 ]
}