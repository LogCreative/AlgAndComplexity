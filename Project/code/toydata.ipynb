{
 "metadata": {
  "language_info": {
   "codemirror_mode": {
    "name": "ipython",
    "version": 3
   },
   "file_extension": ".py",
   "mimetype": "text/x-python",
   "name": "python",
   "nbconvert_exporter": "python",
   "pygments_lexer": "ipython3",
   "version": "3.8.3"
  },
  "orig_nbformat": 2,
  "kernelspec": {
   "name": "python383jvsc74a57bd0b3ba2566441a7c06988d0923437866b63cedc61552a5af99d1f4fb67d367b25f",
   "display_name": "Python 3.8.3 64-bit ('base': conda)"
  }
 },
 "nbformat": 4,
 "nbformat_minor": 2,
 "cells": [
  {
   "cell_type": "code",
   "execution_count": 1,
   "metadata": {},
   "outputs": [],
   "source": [
    "import pandas as pd"
   ]
  },
  {
   "cell_type": "code",
   "execution_count": 2,
   "metadata": {},
   "outputs": [],
   "source": [
    "bandwidth = pd.read_excel('ToyData.xlsx',sheet_name='Inter-Datacenter Links')\n",
    "dcd = pd.read_excel('ToyData.xlsx',sheet_name='Data Center Details')\n",
    "slot = dcd.loc[:,['DC','Num of Slots']].dropna(how='any')\n",
    "location = dcd.loc[:,['Data Partition','Location']]"
   ]
  },
  {
   "cell_type": "code",
   "execution_count": 3,
   "metadata": {},
   "outputs": [],
   "source": [
    "RQ = pd.read_excel('ToyData.xlsx',sheet_name='Job List').iloc[:,1:]\n",
    "RQ.set_index(list(RQ)[0],inplace=True)\n",
    "pre = RQ[list(RQ)[-1]].dropna()\n",
    "exe = RQ[list(RQ)[-2]]\n",
    "RQ = RQ.iloc[:,0:-2]"
   ]
  },
  {
   "cell_type": "code",
   "execution_count": 4,
   "metadata": {},
   "outputs": [],
   "source": [
    "pre = pre.apply(lambda x: x.replace(\"{\",\"\").replace(\"}\",\"\")).str.split(\", \",expand=True).transpose()"
   ]
  },
  {
   "cell_type": "code",
   "execution_count": 5,
   "metadata": {},
   "outputs": [],
   "source": [
    "import re"
   ]
  },
  {
   "cell_type": "code",
   "execution_count": 6,
   "metadata": {},
   "outputs": [],
   "source": [
    "dag = {}\n",
    "for c in list(pre):\n",
    "    for l in pre.index.to_list():\n",
    "        cell = pre[c][l]\n",
    "        if(cell and cell!=\" \"):\n",
    "            edge = re.search(r'\\((?P<start>.+),(?P<end>.+)\\)',cell,re.S).groupdict()\n",
    "            if(edge['start'] in dag):\n",
    "                dag[edge['start']].append(edge['end'])\n",
    "            else:\n",
    "                dag[edge['start']] = [edge['end']]"
   ]
  },
  {
   "cell_type": "code",
   "execution_count": 7,
   "metadata": {},
   "outputs": [
    {
     "output_type": "execute_result",
     "data": {
      "text/plain": [
       "{'tB1': 0,\n",
       " 'tB2': 1,\n",
       " 'tC1': 0,\n",
       " 'tC2': 1,\n",
       " 'tC3': 2,\n",
       " 'tD1': 0,\n",
       " 'tD3': 1,\n",
       " 'tD5': 2,\n",
       " 'tD2': 0,\n",
       " 'tD4': 1,\n",
       " 'tE1': 0,\n",
       " 'tE2': 1,\n",
       " 'tE3': 1,\n",
       " 'tE4': 2,\n",
       " 'tE5': 2,\n",
       " 'tE6': 3,\n",
       " 'tF1': 0,\n",
       " 'tF2': 1,\n",
       " 'tF3': 1,\n",
       " 'tF4': 1,\n",
       " 'tF5': 2,\n",
       " 'tF6': 2,\n",
       " 'tF7': 3,\n",
       " 'tF8': 3,\n",
       " 'tF9': 4}"
      ]
     },
     "metadata": {},
     "execution_count": 7
    }
   ],
   "source": [
    "# topological sort\n",
    "topo_order = []\n",
    "\n",
    "def dfs(key):\n",
    "    if(key in topo_order):\n",
    "        return\n",
    "    topo_order.append(key)\n",
    "    if(key in dag):\n",
    "        for child in dag[key]:\n",
    "            dfs(child)\n",
    "\n",
    "for key in dag:\n",
    "    dfs(key)\n",
    "\n",
    "# BFS through topological order\n",
    "stage = {}\n",
    "visitqueue = list()\n",
    "for node in topo_order:\n",
    "    visitqueue.append(node)\n",
    "    while(len(visitqueue)>0):\n",
    "        top = visitqueue.pop(0)\n",
    "        if(top not in stage):\n",
    "            stage[top] = 0\n",
    "        if(top in dag):\n",
    "            for child in dag[top]:\n",
    "                visitqueue.append(child)\n",
    "                if((child not in stage) or \\\n",
    "                    (stage[top] + 1 > stage[child])):\n",
    "                    stage[child] = stage[top] + 1\n",
    "\n",
    "stage"
   ]
  },
  {
   "cell_type": "code",
   "execution_count": 8,
   "metadata": {},
   "outputs": [],
   "source": [
    "import gurobipy as gp\n",
    "from gurobipy import GRB"
   ]
  },
  {
   "cell_type": "code",
   "execution_count": null,
   "metadata": {},
   "outputs": [],
   "source": []
  }
 ]
}