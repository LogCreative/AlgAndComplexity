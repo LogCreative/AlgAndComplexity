{
 "metadata": {
  "language_info": {
   "codemirror_mode": {
    "name": "ipython",
    "version": 3
   },
   "file_extension": ".py",
   "mimetype": "text/x-python",
   "name": "python",
   "nbconvert_exporter": "python",
   "pygments_lexer": "ipython3",
   "version": "3.8.3"
  },
  "orig_nbformat": 2,
  "kernelspec": {
   "name": "python383jvsc74a57bd0b3ba2566441a7c06988d0923437866b63cedc61552a5af99d1f4fb67d367b25f",
   "display_name": "Python 3.8.3 64-bit ('base': conda)"
  }
 },
 "nbformat": 4,
 "nbformat_minor": 2,
 "cells": [
  {
   "cell_type": "code",
   "execution_count": 266,
   "metadata": {},
   "outputs": [],
   "source": [
    "import pandas as pd"
   ]
  },
  {
   "cell_type": "code",
   "execution_count": 267,
   "metadata": {},
   "outputs": [],
   "source": [
    "def dictappend(dic, key, value):\n",
    "    if key in dic:\n",
    "        dic[key].append(value)\n",
    "    else:\n",
    "        dic[key] = [value]"
   ]
  },
  {
   "cell_type": "code",
   "execution_count": 268,
   "metadata": {},
   "outputs": [],
   "source": [
    "bandwidth = pd.read_excel('ToyData.xlsx',sheet_name='Inter-Datacenter Links').set_index('Bandwidth/MBps').replace('-',0.000001) # very small bandwidth\n",
    "\n",
    "# convert to time\n",
    "for start in bandwidth.index.to_list():\n",
    "    for end in list(bandwidth):\n",
    "        bandwidth = 1 / bandwidth\n",
    "\n",
    "# run Floyd's Algorithm\n",
    "dc_number = len(list(bandwidth))\n",
    "for k in range(dc_number):\n",
    "    for start in range(dc_number):\n",
    "        for end in range(dc_number):\n",
    "            if(bandwidth.iloc[start,end]>bandwidth.iloc[start,k]+bandwidth.iloc[k,end]):\n",
    "                bandwidth.iloc[start,end]=bandwidth.iloc[start,k]+bandwidth.iloc[k,end]\n",
    "\n",
    "# convert back\n",
    "for start in bandwidth.index.to_list():\n",
    "    for end in list(bandwidth):\n",
    "        bandwidth = 1 / bandwidth"
   ]
  },
  {
   "cell_type": "code",
   "execution_count": 269,
   "metadata": {},
   "outputs": [],
   "source": [
    "dcd = pd.read_excel('ToyData.xlsx',sheet_name='Data Center Details')\n",
    "slot = dcd.loc[:,['DC','Num of Slots']].dropna(how='any').set_index('DC')\n",
    "location = dcd.loc[:,['Data Partition','Location']].set_index('Data Partition')"
   ]
  },
  {
   "cell_type": "code",
   "execution_count": 270,
   "metadata": {},
   "outputs": [],
   "source": [
    "RQ = pd.read_excel('ToyData.xlsx',sheet_name='Job List').iloc[:,1:].dropna(how='all')\n",
    "RQ.set_index(list(RQ)[0],inplace=True)\n",
    "pre = RQ[list(RQ)[-1]].dropna()\n",
    "exe = RQ[list(RQ)[-2]]\n",
    "RQ = RQ.iloc[:,0:-2].fillna(0)"
   ]
  },
  {
   "cell_type": "code",
   "execution_count": 271,
   "metadata": {},
   "outputs": [],
   "source": [
    "pre = pre.apply(lambda x: x.replace(\"{\",\"\").replace(\"}\",\"\")).str.split(\", \",expand=True).transpose()"
   ]
  },
  {
   "cell_type": "code",
   "execution_count": 272,
   "metadata": {},
   "outputs": [],
   "source": [
    "import re"
   ]
  },
  {
   "cell_type": "code",
   "execution_count": 273,
   "metadata": {},
   "outputs": [],
   "source": [
    "dag = {}\n",
    "# get adjecency list from adjecency matrix\n",
    "for col in list(RQ):\n",
    "    for row in RQ.index.to_list():\n",
    "        if col.find('t')>=0 and RQ[col][row] > 0:\n",
    "            dictappend(dag,col,row)\n",
    "\n",
    "# isolated node\n",
    "for l in RQ.index.to_list():\n",
    "    if(l not in dag):\n",
    "        dag[l] = []"
   ]
  },
  {
   "cell_type": "code",
   "execution_count": 274,
   "metadata": {},
   "outputs": [],
   "source": [
    "# topological sort\n",
    "topo_order = []\n",
    "\n",
    "def dfs(key):\n",
    "    if(key in topo_order):\n",
    "        return\n",
    "    topo_order.append(key)\n",
    "    if(key in dag):\n",
    "        for child in dag[key]:\n",
    "            dfs(child)\n",
    "\n",
    "for key in dag:\n",
    "    dfs(key)\n",
    "\n",
    "# BFS through topological order\n",
    "stage = {}\n",
    "visitqueue = list()\n",
    "for node in topo_order:\n",
    "    visitqueue.append(node)\n",
    "    while(len(visitqueue)>0):\n",
    "        top = visitqueue.pop(0)\n",
    "        if(top not in stage):\n",
    "            stage[top] = 0\n",
    "        if(top in dag):\n",
    "            for child in dag[top]:\n",
    "                visitqueue.append(child)\n",
    "                if((child not in stage) or (stage[top] + 1 > stage[child])):\n",
    "                    stage[child] = stage[top] + 1\n",
    "\n",
    "# group every class of job in every stage\n",
    "jobs = {}\n",
    "for tjob in stage:\n",
    "    jobattr = re.search(r'(\\w+)(\\d+)',tjob).groups()\n",
    "    jobclass = jobattr[0]\n",
    "    jobstage = stage[tjob]\n",
    "    if(jobclass not in jobs):\n",
    "        jobs[jobclass] = []\n",
    "    if(len(jobs[jobclass])<=jobstage):\n",
    "        jobs[jobclass].append([])\n",
    "    jobs[jobclass][jobstage].append(tjob)"
   ]
  },
  {
   "cell_type": "code",
   "execution_count": 275,
   "metadata": {},
   "outputs": [],
   "source": [
    "import numpy as np\n",
    "import gurobipy as gp\n",
    "from gurobipy import GRB"
   ]
  },
  {
   "cell_type": "code",
   "execution_count": 276,
   "metadata": {},
   "outputs": [],
   "source": [
    "def grouping(suffix,mylist):\n",
    "    c = {}\n",
    "    for mem in mylist:\n",
    "        jobclass = suffix + re.search(r'(\\w+)(\\d+)',mem).groups()[0]\n",
    "        dictappend(c,jobclass,mem)\n",
    "    return c"
   ]
  },
  {
   "cell_type": "code",
   "execution_count": 277,
   "metadata": {},
   "outputs": [],
   "source": [
    "dpc = grouping('t', location.index.to_list())\n",
    "jobclasses = grouping('',RQ.index.to_list())"
   ]
  },
  {
   "cell_type": "code",
   "execution_count": 278,
   "metadata": {},
   "outputs": [],
   "source": [
    "jobstages = {}\n",
    "for job in jobs:\n",
    "    for s in range(len(jobs[job])):\n",
    "        jobstages[job, s] = jobs[job][s]"
   ]
  },
  {
   "cell_type": "code",
   "execution_count": 279,
   "metadata": {},
   "outputs": [
    {
     "output_type": "stream",
     "name": "stdout",
     "text": [
      "Gurobi Optimizer version 9.1.2 build v9.1.2rc0 (win64)\n",
      "Thread count: 2 physical cores, 4 logical processors, using up to 4 threads\n",
      "Optimize a model with 424 rows, 402 columns and 1768 nonzeros\n",
      "Model fingerprint: 0xf66dfd79\n",
      "Model has 159 quadratic constraints\n",
      "Variable types: 51 continuous, 351 integer (351 binary)\n",
      "Coefficient statistics:\n",
      "  Matrix range     [3e-02, 7e+00]\n",
      "  QMatrix range    [2e-02, 2e+01]\n",
      "  QLMatrix range   [1e+00, 1e+00]\n",
      "  Objective range  [4e-02, 4e-02]\n",
      "  Bounds range     [1e+00, 1e+00]\n",
      "  RHS range        [1e+00, 5e+00]\n",
      "Presolve removed 348 rows and 24 columns\n",
      "Presolve time: 0.02s\n",
      "Presolved: 4326 rows, 4603 columns, 17952 nonzeros\n",
      "Variable types: 27 continuous, 4576 integer (4576 binary)\n",
      "Found heuristic solution: objective 3.3065550\n",
      "\n",
      "Root relaxation: objective 2.067571e+00, 726 iterations, 0.04 seconds\n",
      "\n",
      "    Nodes    |    Current Node    |     Objective Bounds      |     Work\n",
      " Expl Unexpl |  Obj  Depth IntInf | Incumbent    BestBd   Gap | It/Node Time\n",
      "\n",
      "     0     0    2.06757    0   93    3.30655    2.06757  37.5%     -    0s\n",
      "H    0     0                       2.8828189    2.06757  28.3%     -    0s\n",
      "H    0     0                       2.5588110    2.06757  19.2%     -    0s\n",
      "H    0     0                       2.4987081    2.06757  17.3%     -    0s\n",
      "     0     0    2.09972    0  145    2.49871    2.09972  16.0%     -    0s\n",
      "     0     0    2.10637    0  147    2.49871    2.10637  15.7%     -    0s\n",
      "     0     0    2.10847    0  131    2.49871    2.10847  15.6%     -    0s\n",
      "     0     0    2.10847    0  132    2.49871    2.10847  15.6%     -    0s\n",
      "     0     0    2.12578    0  164    2.49871    2.12578  14.9%     -    0s\n",
      "H    0     0                       2.4653542    2.12578  13.8%     -    0s\n",
      "H    0     0                       2.4283172    2.12578  12.5%     -    0s\n",
      "     0     0    2.12678    0  173    2.42832    2.12678  12.4%     -    0s\n",
      "     0     0    2.14058    0  166    2.42832    2.14058  11.8%     -    0s\n",
      "H    0     0                       2.3862801    2.14058  10.3%     -    0s\n",
      "     0     0    2.14114    0  181    2.38628    2.14114  10.3%     -    0s\n",
      "     0     0    2.14515    0  189    2.38628    2.14515  10.1%     -    0s\n",
      "H    0     0                       2.3775882    2.14515  9.78%     -    0s\n",
      "     0     0    2.14588    0  190    2.37759    2.14588  9.75%     -    0s\n",
      "     0     0    2.14788    0  228    2.37759    2.14788  9.66%     -    0s\n",
      "     0     0    2.14788    0  214    2.37759    2.14788  9.66%     -    1s\n",
      "H    0     0                       2.3330511    2.14912  7.88%     -    1s\n",
      "     0     2    2.14912    0  200    2.33305    2.14912  7.88%     -    1s\n",
      "H    9    12                       2.2963639    2.15786  6.03%   102    1s\n",
      "H   27    32                       2.2953762    2.15786  5.99%  74.5    1s\n",
      "H   29    32                       2.2805614    2.15786  5.38%  72.1    1s\n",
      "H   58    63                       2.2603968    2.15786  4.54%  54.4    1s\n",
      "H   88    76                       2.2515079    2.15786  4.16%  58.2    2s\n",
      "H  117    89                       2.2434832    2.15786  3.82%  55.1    2s\n",
      "H  194   123                       2.2385758    2.16416  3.32%  54.4    2s\n",
      "   785   250     cutoff   11         2.23858    2.19468  1.96%  58.3    5s\n",
      "\n",
      "Cutting planes:\n",
      "  Gomory: 7\n",
      "  Cover: 3\n",
      "  Implied bound: 2\n",
      "  MIR: 191\n",
      "  Inf proof: 2\n",
      "  Zero half: 13\n",
      "  RLT: 249\n",
      "  Relax-and-lift: 34\n",
      "  BQP: 4\n",
      "\n",
      "Explored 1532 nodes (81367 simplex iterations) in 7.19 seconds\n",
      "Thread count was 4 (of 4 available processors)\n",
      "\n",
      "Solution count 10: 2.23858 2.24348 2.25151 ... 2.38628\n",
      "\n",
      "Optimal solution found (tolerance 1.00e-04)\n",
      "Best objective 2.238575837742e+00, best bound 2.238575837742e+00, gap 0.0000%\n"
     ]
    }
   ],
   "source": [
    "# the following solving process is based on \n",
    "# gurobi's example on matrix2\n",
    "m = gp.Model('geodata')\n",
    "\n",
    "tasklist = RQ.index.to_list()\n",
    "dclist = slot.index.to_list()\n",
    "\n",
    "placing = {}\n",
    "for classjob in jobclasses:\n",
    "    for task in jobclasses[classjob]:\n",
    "        for dp in dpc[classjob]:\n",
    "            dc = location[\"Location\"][dp]\n",
    "            if (task,dc) in placing:\n",
    "                placing[task, dc] += RQ[dp][task]\n",
    "            else:\n",
    "                placing[task, dc] = RQ[dp][task]\n",
    "\n",
    "for task in tasklist:\n",
    "    for dc in dclist:\n",
    "        if (task,dc) not in placing:\n",
    "            placing[task,dc] = 0\n",
    "\n",
    "inter = {}\n",
    "for task in tasklist:\n",
    "    for othertask in tasklist:\n",
    "        if othertask in list(RQ):\n",
    "            inter[othertask,task] = RQ[othertask][task]\n",
    "        else:\n",
    "            inter[othertask,task] = 0\n",
    "\n",
    "# boolean matrix for choosing position of\n",
    "# the job slot\n",
    "x = m.addVars(placing.keys(), vtype=GRB.BINARY, name=\"schedule\")\n",
    "\n",
    "# the elapsed time of every stage\n",
    "ct = m.addVars(jobstages.keys(),name=\"stagetime\")\n",
    "jt = m.addVars(jobclasses.keys(),name=\"jobtime\")\n",
    "# job time is the sum of every stage\n",
    "for jclass in jobclasses:\n",
    "    m.addConstr(jt[jclass] == ct.sum(jclass,'*'))\n",
    "\n",
    "# minimize average time\n",
    "m.setObjective(jt.sum('*')/len(tasklist),GRB.MINIMIZE)\n",
    "\n",
    "# subject to:\n",
    "# (1) job is allocated in row\n",
    "for task in tasklist:\n",
    "    # At most one allocation per row\n",
    "    m.addConstr(x.sum(task,'*') == 1, name=\"job_\"+str(task))\n",
    "\n",
    "# (2) not exceed the number of slot\n",
    "for dc in dclist:\n",
    "    m.addConstr(x.sum('*',dc) <= slot[\"Num of Slots\"][dc], name=\"dc_\"+str(dclist))\n",
    "\n",
    "# (3) calculate time on every stage\n",
    "for jobstage in jobstages:\n",
    "    ctt = m.addVars(jobstages[jobstage],name=\"stagetask\"+str(jobstage))\n",
    "    for task in jobstages[jobstage]:\n",
    "        for jdc in dclist:\n",
    "            m.addConstr(ctt[task] >= gp.quicksum(x[task,idc]*placing[task,jdc]/bandwidth[idc][jdc] for idc in dclist))\n",
    "        for classtask in jobclasses[jobstage[0]]:\n",
    "            m.addConstr(ctt[task] >= gp.quicksum(x[classtask,jdc]*x[task,idc]*inter[classtask,task]/bandwidth[jdc][idc] for idc in dclist for jdc in dclist),name=\"task\"+str(task)+\"from\"+str(classtask))\n",
    "        m.addConstr(ct[jobstage] >= ctt[task] + exe[task])\n",
    "\n",
    "m.optimize()"
   ]
  },
  {
   "cell_type": "code",
   "execution_count": 382,
   "metadata": {},
   "outputs": [
    {
     "output_type": "execute_result",
     "data": {
      "text/plain": [
       "{'tA': <gurobi.Var jobtime[tA] (value 2.5)>,\n",
       " 'tB': <gurobi.Var jobtime[tB] (value 6.033333333333282)>,\n",
       " 'tC': <gurobi.Var jobtime[tC] (value 7.780833333333334)>,\n",
       " 'tD': <gurobi.Var jobtime[tD] (value 9.916666666666664)>,\n",
       " 'tE': <gurobi.Var jobtime[tE] (value 14.024999999999947)>,\n",
       " 'tF': <gurobi.Var jobtime[tF] (value 20.185714285714234)>}"
      ]
     },
     "metadata": {},
     "execution_count": 382
    }
   ],
   "source": [
    "jt"
   ]
  },
  {
   "cell_type": "code",
   "execution_count": 379,
   "metadata": {
    "tags": []
   },
   "outputs": [],
   "source": [
    "alloc = {}\n",
    "taskalloc = {}\n",
    "for xe in x:\n",
    "    if x[xe].x==1:\n",
    "        dictappend(alloc,xe[1],xe[0])\n",
    "        taskalloc[xe[0]] = xe[1]\n",
    "\n",
    "for dc in dclist:\n",
    "    if dc not in alloc:\n",
    "        alloc[dc] = []\n",
    "\n",
    "diagram = \"\\\\documentclass[tikz]{standalone}\\n\\\\begin{document}\\n\\\\begin{tikzpicture}\\n\\\\usetikzlibrary {positioning,shapes.misc}\\n\\\\tikzstyle{dc} = [rounded rectangle,right,draw=gray,yshift=-0.5cm];\\n\\\\tikzstyle{task} = [circle,draw=red!50!black!50,top color=white];\\n\"\n",
    "maxstage = max(stage[x] for x in stage)\n",
    "maxbandwidth = max(bandwidth[i][j] for i in list(bandwidth) for j in list(bandwidth.index))\n",
    "dcy = 0\n",
    "for i in range(1,dc_number+1):\n",
    "    dc = \"DC\" + str(i)\n",
    "    diagram += \"\\\\node at (-1.5,\" + str(dcy) + \") {\" + dc + \"};\\n\"\n",
    "    diagram += \"\\\\node[dc,text width=\" + str(slot[\"Num of Slots\"][dc]) + \"cm] (\" + dc + \") at (-0.5,\" + str(dcy) + \") {};\\n\"\n",
    "    taskx = 0\n",
    "    for task in alloc[dc]:\n",
    "        diagram += \"\\\\node[task,bottom color=black!\" + str(5 + stage[task]/maxstage * 20) + \"] at (\" + str(taskx) + \",\" + str(dcy) + \") {\" + task + \"};\\n\"\n",
    "        diagram += \"\\\\node[task,bottom color=black!\" + str(5 + stage[task]/maxstage * 20) + \",opacity=0.3] (\" + task + \") at (\" + str(6+taskx) + \",\" + str(dcy) + \") {\" + task + \"};\\n\"\n",
    "        taskx += 1\n",
    "    while(taskx < slot[\"Num of Slots\"][dc]):\n",
    "        diagram += \"\\\\node[task] at (\" + str(taskx) + \",\" + str(dcy) + \") {};\\n\"\n",
    "        taskx += 1\n",
    "    dcy -= 1.5\n",
    "for start in dag:\n",
    "    for end in dag[start]:\n",
    "        diagram += \"\\\\draw[green!\" + str(RQ[start][end]/bandwidth[taskalloc[end]][taskalloc[start]] * 45)+ \"!red,line width=\" + str(bandwidth[taskalloc[end]][taskalloc[start]] / maxbandwidth * 1) + \"pt] (\" + start + \") edge[->,bend right] (\" + end + \");\\n\"\n",
    "diagram += \"\\\\end{tikzpicture}\\n\\\\end{document}\\n\"\n",
    "\n",
    "with open(\"best.tex\",\"w\") as diagramFile:\n",
    "    diagramFile.write(diagram)"
   ]
  },
  {
   "cell_type": "code",
   "execution_count": 372,
   "metadata": {},
   "outputs": [
    {
     "output_type": "execute_result",
     "data": {
      "text/plain": [
       "{'DC3': ['tB1', 'tB2', 'tA1'],\n",
       " 'DC2': ['tC3'],\n",
       " 'DC5': ['tD5'],\n",
       " 'DC8': ['tE1', 'tE3'],\n",
       " 'DC4': ['tE2', 'tC1'],\n",
       " 'DC6': ['tE4', 'tD2', 'tD3', 'tF5', 'tF7'],\n",
       " 'DC11': ['tE5', 'tE6'],\n",
       " 'DC9': ['tF1', 'tA2'],\n",
       " 'DC13': ['tF4', 'tF6', 'tC2', 'tD1'],\n",
       " 'DC12': ['tF8', 'tF9', 'tD4'],\n",
       " 'DC1': ['tF2'],\n",
       " 'DC7': ['tF3'],\n",
       " 'DC10': []}"
      ]
     },
     "metadata": {},
     "execution_count": 372
    }
   ],
   "source": [
    "alloc"
   ]
  }
 ]
}